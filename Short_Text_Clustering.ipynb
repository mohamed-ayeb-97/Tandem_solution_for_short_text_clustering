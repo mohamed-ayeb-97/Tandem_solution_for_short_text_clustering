{
  "cells": [
    {
      "cell_type": "markdown",
      "metadata": {
        "id": "view-in-github",
        "colab_type": "text"
      },
      "source": [
        "<a href=\"https://colab.research.google.com/github/mohamed-ayeb-97/Tandem_solution_for_short_text_clustering/blob/main/Short_Text_Clustering.ipynb\" target=\"_parent\"><img src=\"https://colab.research.google.com/assets/colab-badge.svg\" alt=\"Open In Colab\"/></a>"
      ]
    },
    {
      "cell_type": "code",
      "execution_count": 3,
      "metadata": {
        "colab": {
          "base_uri": "https://localhost:8080/"
        },
        "id": "DPGPje4HASLS",
        "outputId": "dcf3909a-a9ce-42b0-90e2-debc3dd56574"
      },
      "outputs": [
        {
          "output_type": "stream",
          "name": "stdout",
          "text": [
            "\u001b[2K     \u001b[90m━━━━━━━━━━━━━━━━━━━━━━━━━━━━━━━━━━━━━━━━\u001b[0m \u001b[32m85.7/85.7 kB\u001b[0m \u001b[31m2.6 MB/s\u001b[0m eta \u001b[36m0:00:00\u001b[0m\n",
            "\u001b[2K     \u001b[90m━━━━━━━━━━━━━━━━━━━━━━━━━━━━━━━━━━━━━━━━\u001b[0m \u001b[32m2.6/2.6 MB\u001b[0m \u001b[31m14.1 MB/s\u001b[0m eta \u001b[36m0:00:00\u001b[0m\n",
            "\u001b[?25h  Preparing metadata (setup.py) ... \u001b[?25l\u001b[?25hdone\n",
            "\u001b[2K     \u001b[90m━━━━━━━━━━━━━━━━━━━━━━━━━━━━━━━━━━━━━━━━\u001b[0m \u001b[32m56.8/56.8 kB\u001b[0m \u001b[31m6.9 MB/s\u001b[0m eta \u001b[36m0:00:00\u001b[0m\n",
            "\u001b[?25h  Building wheel for pyclustering (setup.py) ... \u001b[?25l\u001b[?25hdone\n"
          ]
        }
      ],
      "source": [
        "!pip install -q scikit-learn umap-learn pyclustering"
      ]
    },
    {
      "cell_type": "code",
      "execution_count": 6,
      "metadata": {
        "id": "I_qaL2WJAU-6"
      },
      "outputs": [],
      "source": [
        "import os\n",
        "from collections import Counter\n",
        "import numpy as np\n",
        "import pandas as pd\n",
        "import scipy.io\n",
        "from scipy.optimize import linear_sum_assignment\n",
        "import ast\n",
        "\n",
        "from sklearn.cluster import KMeans\n",
        "from sklearn.metrics import normalized_mutual_info_score\n",
        "from sklearn.decomposition import PCA\n",
        "\n",
        "import umap\n",
        "import umap.umap_ as UMAP\n",
        "\n",
        "from spherical_kmeans import SphericalKmeans\n",
        "\n",
        "import warnings\n",
        "warnings.filterwarnings(\"ignore\", message=\"The default value of `n_init` will change from 10 to 'auto' in 1.4.*\")\n"
      ]
    },
    {
      "cell_type": "markdown",
      "source": [
        "Fonction de calcul de précision"
      ],
      "metadata": {
        "id": "e7YwB1hkQAzk"
      }
    },
    {
      "cell_type": "code",
      "execution_count": 7,
      "metadata": {
        "id": "o2J52YVwonUQ"
      },
      "outputs": [],
      "source": [
        "def accuracy(y, ypred):\n",
        "\n",
        "        assert len(y) > 0\n",
        "\n",
        "        unique_pred = np.unique(ypred)\n",
        "        unique_true = np.unique(y)\n",
        "\n",
        "        Nunique_pred = len(np.unique(ypred))\n",
        "        Nunique_true = len(np.unique(y))\n",
        "\n",
        "        cm = np.zeros((Nunique_pred, Nunique_true), dtype = np.int32)\n",
        "        for i in range(Nunique_pred):\n",
        "            for j in range(Nunique_true):\n",
        "                idx = np.logical_and(ypred == unique_pred[i], y == unique_true[j])\n",
        "                cm[i][j] = np.count_nonzero(idx)\n",
        "\n",
        "        Cmax = np.amax(cm)\n",
        "        cm = Cmax - cm\n",
        "        row, col = linear_sum_assignment(cm)\n",
        "\n",
        "        count = 0\n",
        "        for i in range(Nunique_pred):\n",
        "            idx = np.logical_and(ypred == unique_pred[row[i]], y == unique_true[col[i]] )\n",
        "            count += np.count_nonzero(idx)\n",
        "\n",
        "        return 1.0*count/len(y)"
      ]
    },
    {
      "cell_type": "markdown",
      "source": [
        "Importation des données"
      ],
      "metadata": {
        "id": "dGb2mNkAQjVH"
      }
    },
    {
      "cell_type": "code",
      "source": [
        "# les labels snippet\n",
        "y_snippet = pd.read_excel('y_snippet.xlsx', header = None)\n",
        "y_snippet = y_snippet.values.flatten()\n",
        "\n",
        "# Importation des HuggingFace Embedding Snippet\n",
        "\n",
        "output = pd.read_excel('/content/embed_e5_snippet.xlsx', engine='openpyxl')\n",
        "embeddings = output['embeddings']\n",
        "embeddings_array = np.array(embeddings)\n",
        "processed_data = [ast.literal_eval(embedding_str) for embedding_str in embeddings_array]\n",
        "\n",
        "x_snippet = np.array(processed_data)"
      ],
      "metadata": {
        "id": "xo92dzSRQi2x"
      },
      "execution_count": null,
      "outputs": []
    },
    {
      "cell_type": "code",
      "source": [
        "# les labels stack\n",
        "y_stack = pd.read_excel('y_stack.xlsx', header = None)\n",
        "y_stack = y_stack.values.flatten()\n",
        "\n",
        "# Importation des HuggingFace Embedding stack\n",
        "\n",
        "output = pd.read_excel('output_stack.xlsx', engine='openpyxl')\n",
        "embeddings = output['embeddings']\n",
        "embeddings_array = np.array(embeddings)\n",
        "processed_data = [ast.literal_eval(embedding_str) for embedding_str in embeddings_array]\n",
        "\n",
        "x_stack = np.array(processed_data)"
      ],
      "metadata": {
        "id": "CkhRRNmAQqUW"
      },
      "execution_count": null,
      "outputs": []
    },
    {
      "cell_type": "code",
      "execution_count": null,
      "metadata": {
        "id": "tIMRfX-Nqz5w"
      },
      "outputs": [],
      "source": [
        "# les labels biomed\n",
        "y_biomed = pd.read_excel('y_biomed.xlsx', header = None)\n",
        "y_biomed = y_biomed.values.flatten()\n",
        "\n",
        "# Importation des HuggingFace Embedding Biomed\n",
        "\n",
        "output = pd.read_excel('/content/embed_e5_biomed.xlsx', engine='openpyxl')\n",
        "embeddings = output['embeddings']\n",
        "embeddings_array = np.array(embeddings)\n",
        "processed_data = [ast.literal_eval(embedding_str) for embedding_str in embeddings_array]\n",
        "\n",
        "x_biomed = np.array(processed_data)\n"
      ]
    },
    {
      "cell_type": "markdown",
      "source": [
        "#ACP"
      ],
      "metadata": {
        "id": "m0Q3GVe9Wmfc"
      }
    },
    {
      "cell_type": "code",
      "execution_count": null,
      "metadata": {
        "id": "OTnStNqdnbhq"
      },
      "outputs": [],
      "source": [
        "def cluster_acp_and_evaluate(x, y):\n",
        "\n",
        "    n_components_list = np.linspace(50, 320, 250, dtype=int)\n",
        "\n",
        "    best_nmi = {'KMeans': {'nmi': -1, 'accuracy': -1, 'n_components': -1},\n",
        "                'sKMeans': {'nmi': -1, 'accuracy': -1, 'n_components': -1},\n",
        "                'KMeans++': {'nmi': -1, 'accuracy': -1, 'n_components': -1}}\n",
        "\n",
        "    best_accuracy = {'KMeans': {'accuracy': -1,'nmi': -1, 'n_components': -1},\n",
        "                      'sKMeans': {'accuracy': -1,'nmi': -1, 'n_components': -1},\n",
        "                      'KMeans++': {'accuracy': -1,'nmi': -1, 'n_components': -1}}\n",
        "\n",
        "    n_clusters = len(np.unique(y))\n",
        "\n",
        "    for n_components in n_components_list :\n",
        "\n",
        "       # Reduction de dimention\n",
        "        pca = PCA(n_components=n_components)\n",
        "        pca_representation = pca.fit_transform(x)\n",
        "\n",
        "        # Clustering\n",
        "\n",
        "        kmeans = KMeans(n_clusters=n_clusters)\n",
        "        labels_kmeans = kmeans.fit_predict(pca_representation)\n",
        "        nmi_kmeans = normalized_mutual_info_score(y, labels_kmeans)\n",
        "        accuracy_kmeans = accuracy(y, labels_kmeans)\n",
        "\n",
        "        if nmi_kmeans > best_nmi['KMeans']['nmi']:\n",
        "          best_nmi['KMeans']['nmi'] = nmi_kmeans\n",
        "          best_nmi['KMeans']['accuracy'] = accuracy_kmeans\n",
        "          best_nmi['KMeans']['n_components'] = n_components\n",
        "\n",
        "        if accuracy_kmeans > best_accuracy['KMeans']['accuracy']:\n",
        "          best_accuracy['KMeans']['accuracy'] = accuracy_kmeans\n",
        "          best_accuracy['KMeans']['nmi'] = nmi_kmeans\n",
        "          best_accuracy['KMeans']['n_components'] = n_components\n",
        "\n",
        "\n",
        "        spherical_kmeans = SphericalKmeans(n_clusters=n_clusters, max_iter=100)\n",
        "        spherical_kmeans.fit(pca_representation)\n",
        "\n",
        "        labels_skmeans = spherical_kmeans.labels_\n",
        "        nmi_skmeans = normalized_mutual_info_score(y, labels_skmeans)\n",
        "        accuracy_skmeans = accuracy(y, labels_skmeans)\n",
        "\n",
        "        if nmi_skmeans > best_nmi['sKMeans']['nmi']:\n",
        "          best_nmi['sKMeans']['nmi'] = nmi_skmeans\n",
        "          best_nmi['sKMeans']['accuracy'] = accuracy_skmeans\n",
        "          best_nmi['sKMeans']['n_components'] = n_components\n",
        "\n",
        "        if accuracy_skmeans > best_accuracy['sKMeans']['accuracy']:\n",
        "          best_accuracy['sKMeans']['accuracy'] = accuracy_skmeans\n",
        "          best_accuracy['sKMeans']['nmi'] = nmi_skmeans\n",
        "          best_accuracy['sKMeans']['n_components'] = n_components\n",
        "\n",
        "        kmeans_pp = KMeans(n_clusters=n_clusters, init='k-means++')\n",
        "        labels_kmeans_pp = kmeans_pp.fit_predict(pca_representation)\n",
        "        nmi_kmeans_pp = normalized_mutual_info_score(y, labels_kmeans_pp)\n",
        "        accuracy_kmeans_pp = accuracy(y, labels_kmeans_pp)\n",
        "\n",
        "        if nmi_kmeans_pp > best_nmi['KMeans++']['nmi']:\n",
        "          best_nmi['KMeans++']['nmi'] = nmi_kmeans_pp\n",
        "          best_nmi['KMeans++']['accuracy'] = accuracy_kmeans_pp\n",
        "          best_nmi['KMeans++']['n_components'] = n_components\n",
        "\n",
        "\n",
        "        if accuracy_kmeans_pp > best_accuracy['KMeans++']['accuracy']:\n",
        "          best_accuracy['KMeans++']['accuracy'] = accuracy_kmeans_pp\n",
        "          best_accuracy['KMeans++']['nmi'] = nmi_kmeans_pp\n",
        "          best_accuracy['KMeans++']['n_components'] = n_components\n",
        "\n",
        "    n_components_kmeans = best_accuracy['KMeans']['n_components']\n",
        "    n_components_sKMeans = best_accuracy['sKMeans']['n_components']\n",
        "    n_components_KMeans_pp = best_accuracy['KMeans++']['n_components']\n",
        "\n",
        "    print(n_components_kmeans)\n",
        "    print(n_components_sKMeans)\n",
        "    print(n_components_KMeans_pp)\n",
        "\n",
        "\n",
        "    nmi_scores = {'KMeans': [], 'sKMeans': [], 'KMeans++': []}\n",
        "    accuracy_scores = {'KMeans': [], 'sKMeans': [], 'KMeans++': []}\n",
        "\n",
        "    num_executions = 5\n",
        "\n",
        "    # Reduction de Dimension\n",
        "    for execution in range(num_executions):\n",
        "\n",
        "        for method in nmi_scores:\n",
        "\n",
        "        # Clustering\n",
        "          if method == 'KMeans':\n",
        "\n",
        "            pca = PCA(n_components=n_components_kmeans)\n",
        "            pca_representation = pca.fit_transform(x)\n",
        "            kmeans = KMeans(n_clusters=n_clusters)\n",
        "            labels = kmeans.fit_predict(pca_representation)\n",
        "\n",
        "            nmi = normalized_mutual_info_score(y, labels)\n",
        "            acc = accuracy(y, labels)\n",
        "\n",
        "            nmi_scores[method].append(nmi)\n",
        "            accuracy_scores[method].append(acc)\n",
        "\n",
        "          elif method == 'sKMeans':\n",
        "\n",
        "            pca = PCA(n_components=n_components_sKMeans)\n",
        "            pca_representation = pca.fit_transform(x)\n",
        "            kmeans = SphericalKmeans(n_clusters=n_clusters, max_iter=100)\n",
        "            kmeans.fit(pca_representation)\n",
        "            labels = kmeans.labels_\n",
        "\n",
        "            nmi = normalized_mutual_info_score(y, labels)\n",
        "            acc = accuracy(y, labels)\n",
        "\n",
        "            nmi_scores[method].append(nmi)\n",
        "            accuracy_scores[method].append(acc)\n",
        "\n",
        "\n",
        "          else:\n",
        "            pca = PCA(n_components=n_components_KMeans_pp)\n",
        "            pca_representation = pca.fit_transform(x)\n",
        "            kmeans = KMeans(n_clusters=n_clusters, init='k-means++')\n",
        "            labels = kmeans.fit_predict(pca_representation)\n",
        "\n",
        "            nmi = normalized_mutual_info_score(y, labels)\n",
        "            acc = accuracy(y, labels)\n",
        "            nmi_scores[method].append(nmi)\n",
        "            accuracy_scores[method].append(acc)\n",
        "\n",
        "    print(\"Mean and Standard Deviation of NMI and Accuracy Scores:\")\n",
        "    print(\"----------------------------------------------------\")\n",
        "    print(\"Method      |   NMI              |  Accuracy\")\n",
        "    print(\"----------------------------------------------------\")\n",
        "    for method in nmi_scores:\n",
        "        nmi_mean = np.mean(nmi_scores[method])\n",
        "        nmi_std = np.std(nmi_scores[method])\n",
        "        acc_mean = np.mean(accuracy_scores[method])\n",
        "        acc_std = np.std(accuracy_scores[method])\n",
        "        print(f\"{method:<11} | {nmi_mean:.2f} +- {nmi_std:.2f} | {acc_mean:.2f} +- {acc_std:.2f}\")\n",
        "        print(\"----------------------------------------------------\")\n",
        "\n"
      ]
    },
    {
      "cell_type": "code",
      "execution_count": null,
      "metadata": {
        "colab": {
          "base_uri": "https://localhost:8080/"
        },
        "id": "0wPMFVkQnbeG",
        "outputId": "8afb0974-5d4d-467e-c96c-cb2fd9f58bdb"
      },
      "outputs": [
        {
          "name": "stdout",
          "output_type": "stream",
          "text": [
            "226\n",
            "117\n",
            "74\n",
            "Mean and Standard Deviation of NMI and Accuracy Scores:\n",
            "----------------------------------------------------\n",
            "Method      |   NMI              |  Accuracy\n",
            "----------------------------------------------------\n",
            "KMeans      | 0.60 +- 0.00 | 0.74 +- 0.00\n",
            "----------------------------------------------------\n",
            "sKMeans     | 0.58 +- 0.01 | 0.74 +- 0.02\n",
            "----------------------------------------------------\n",
            "KMeans++    | 0.59 +- 0.00 | 0.74 +- 0.00\n",
            "----------------------------------------------------\n"
          ]
        }
      ],
      "source": [
        "cluster_acp_and_evaluate(x_snippet, y_snippet)"
      ]
    },
    {
      "cell_type": "code",
      "execution_count": null,
      "metadata": {
        "colab": {
          "base_uri": "https://localhost:8080/"
        },
        "id": "u0oKiBofn5cs",
        "outputId": "e919fe0b-0bb4-48e7-e971-b8fd92ba4128"
      },
      "outputs": [
        {
          "name": "stdout",
          "output_type": "stream",
          "text": [
            "205\n",
            "184\n",
            "148\n",
            "Mean and Standard Deviation of NMI and Accuracy Scores:\n",
            "----------------------------------------------------\n",
            "Method      |   NMI              |  Accuracy\n",
            "----------------------------------------------------\n",
            "KMeans      | 0.45 +- 0.00 | 0.52 +- 0.01\n",
            "----------------------------------------------------\n",
            "sKMeans     | 0.42 +- 0.01 | 0.49 +- 0.02\n",
            "----------------------------------------------------\n",
            "KMeans++    | 0.44 +- 0.01 | 0.51 +- 0.01\n",
            "----------------------------------------------------\n"
          ]
        }
      ],
      "source": [
        "cluster_acp_and_evaluate(x_biomed, y_biomed)"
      ]
    },
    {
      "cell_type": "code",
      "execution_count": null,
      "metadata": {
        "colab": {
          "background_save": true
        },
        "id": "W_UTbV4Unbbx",
        "outputId": "41562ee7-4eaa-4ebc-bd65-6deefbb65b70"
      },
      "outputs": [
        {
          "name": "stdout",
          "output_type": "stream",
          "text": [
            "55\n",
            "153\n",
            "61\n",
            "Mean and Standard Deviation of NMI and Accuracy Scores:\n",
            "----------------------------------------------------\n",
            "Method      |   NMI              |  Accuracy\n",
            "----------------------------------------------------\n",
            "KMeans      | 0.70 +- 0.00 | 0.72 +- 0.01\n",
            "----------------------------------------------------\n",
            "sKMeans     | 0.67 +- 0.01 | 0.68 +- 0.02\n",
            "----------------------------------------------------\n",
            "KMeans++    | 0.70 +- 0.00 | 0.72 +- 0.01\n",
            "----------------------------------------------------\n"
          ]
        }
      ],
      "source": [
        "cluster_acp_and_evaluate(x_stack, y_stack)"
      ]
    },
    {
      "cell_type": "markdown",
      "metadata": {
        "id": "uar-g5ESKjs8"
      },
      "source": [
        "#UMAP\n"
      ]
    },
    {
      "cell_type": "code",
      "execution_count": null,
      "metadata": {
        "id": "v6wXcfEwnbXc"
      },
      "outputs": [],
      "source": [
        "def cluster_umap_and_evaluate(x, y):\n",
        "\n",
        "    n_components_list = np.linspace(100, 320, 50, dtype=int)\n",
        "\n",
        "    best_nmi = {'KMeans': {'nmi': -1, 'accuracy': -1, 'n_components': -1},\n",
        "                'sKMeans': {'nmi': -1, 'accuracy': -1, 'n_components': -1},\n",
        "                'KMeans++': {'nmi': -1, 'accuracy': -1, 'n_components': -1}}\n",
        "\n",
        "    best_accuracy = {'KMeans': {'accuracy': -1,'nmi': -1, 'n_components': -1},\n",
        "                      'sKMeans': {'accuracy': -1,'nmi': -1, 'n_components': -1},\n",
        "                      'KMeans++': {'accuracy': -1,'nmi': -1, 'n_components': -1}}\n",
        "\n",
        "    n_clusters = len(np.unique(y))\n",
        "\n",
        "    for n_components in n_components_list :\n",
        "\n",
        "        # Reduction de dimention\n",
        "        umap_reducer = umap.UMAP(n_components=n_components, n_neighbors = 600, min_dist= 0.99, metric= 'cosine')\n",
        "        X_umap = umap_reducer.fit_transform(x)\n",
        "\n",
        "        # Clustering\n",
        "\n",
        "        kmeans = KMeans(n_clusters=n_clusters)\n",
        "        labels_kmeans = kmeans.fit_predict(X_umap)\n",
        "        nmi_kmeans = normalized_mutual_info_score(y, labels_kmeans)\n",
        "        accuracy_kmeans = accuracy(y, labels_kmeans)\n",
        "\n",
        "        if nmi_kmeans > best_nmi['KMeans']['nmi']:\n",
        "          best_nmi['KMeans']['nmi'] = nmi_kmeans\n",
        "          best_nmi['KMeans']['accuracy'] = accuracy_kmeans\n",
        "          best_nmi['KMeans']['n_components'] = n_components\n",
        "\n",
        "        if accuracy_kmeans > best_accuracy['KMeans']['accuracy']:\n",
        "          best_accuracy['KMeans']['accuracy'] = accuracy_kmeans\n",
        "          best_accuracy['KMeans']['nmi'] = nmi_kmeans\n",
        "          best_accuracy['KMeans']['n_components'] = n_components\n",
        "\n",
        "\n",
        "        spherical_kmeans = SphericalKmeans(n_clusters=n_clusters, max_iter=100)\n",
        "        spherical_kmeans.fit(X_umap)\n",
        "\n",
        "        labels_skmeans = spherical_kmeans.labels_\n",
        "        nmi_skmeans = normalized_mutual_info_score(y, labels_skmeans)\n",
        "        accuracy_skmeans = accuracy(y, labels_skmeans)\n",
        "\n",
        "        if nmi_skmeans > best_nmi['sKMeans']['nmi']:\n",
        "          best_nmi['sKMeans']['nmi'] = nmi_skmeans\n",
        "          best_nmi['sKMeans']['accuracy'] = accuracy_skmeans\n",
        "          best_nmi['sKMeans']['n_components'] = n_components\n",
        "\n",
        "        if accuracy_skmeans > best_accuracy['sKMeans']['accuracy']:\n",
        "          best_accuracy['sKMeans']['accuracy'] = accuracy_skmeans\n",
        "          best_accuracy['sKMeans']['nmi'] = nmi_skmeans\n",
        "          best_accuracy['sKMeans']['n_components'] = n_components\n",
        "\n",
        "        kmeans_pp = KMeans(n_clusters=n_clusters, init='k-means++')\n",
        "        labels_kmeans_pp = kmeans_pp.fit_predict(X_umap)\n",
        "        nmi_kmeans_pp = normalized_mutual_info_score(y, labels_kmeans_pp)\n",
        "        accuracy_kmeans_pp = accuracy(y, labels_kmeans_pp)\n",
        "\n",
        "        if nmi_kmeans_pp > best_nmi['KMeans++']['nmi']:\n",
        "          best_nmi['KMeans++']['nmi'] = nmi_kmeans_pp\n",
        "          best_nmi['KMeans++']['accuracy'] = accuracy_kmeans_pp\n",
        "          best_nmi['KMeans++']['n_components'] = n_components\n",
        "\n",
        "\n",
        "        if accuracy_kmeans_pp > best_accuracy['KMeans++']['accuracy']:\n",
        "          best_accuracy['KMeans++']['accuracy'] = accuracy_kmeans_pp\n",
        "          best_accuracy['KMeans++']['nmi'] = nmi_kmeans_pp\n",
        "          best_accuracy['KMeans++']['n_components'] = n_components\n",
        "\n",
        "    n_components_kmeans = best_accuracy['KMeans']['n_components']\n",
        "    n_components_sKMeans = best_accuracy['sKMeans']['n_components']\n",
        "    n_components_KMeans_pp = best_accuracy['KMeans++']['n_components']\n",
        "\n",
        "    print(n_components_kmeans)\n",
        "    print(n_components_sKMeans)\n",
        "    print(n_components_KMeans_pp)\n",
        "\n",
        "\n",
        "    nmi_scores = {'KMeans': [], 'sKMeans': [], 'KMeans++': []}\n",
        "    accuracy_scores = {'KMeans': [], 'sKMeans': [], 'KMeans++': []}\n",
        "\n",
        "    num_executions = 5\n",
        "\n",
        "    umap_reducer_kmeans = umap.UMAP(n_components=n_components_kmeans, n_neighbors = 600, min_dist= 0.99, metric= 'cosine')\n",
        "    X_umap_kmeans = umap_reducer_kmeans.fit_transform(x)\n",
        "\n",
        "    umap_reducer_kmeans_pp = umap.UMAP(n_components=n_components_KMeans_pp, n_neighbors = 600, min_dist= 0.99, metric= 'cosine')\n",
        "    X_umap_kmeans_pp = umap_reducer_kmeans_pp.fit_transform(x)\n",
        "\n",
        "    umap_reducer_skmeans = umap.UMAP(n_components=n_components_sKMeans, n_neighbors = 600, min_dist= 0.99, metric= 'cosine')\n",
        "    X_umap_skmeans = umap_reducer_skmeans.fit_transform(x)\n",
        "\n",
        "\n",
        "    # Reduction de Dimension\n",
        "    for execution in range(num_executions):\n",
        "\n",
        "        for method in nmi_scores:\n",
        "\n",
        "        # Clustering\n",
        "          if method == 'KMeans':\n",
        "\n",
        "            kmeans = KMeans(n_clusters=n_clusters)\n",
        "            labels = kmeans.fit_predict(X_umap_kmeans)\n",
        "\n",
        "            nmi = normalized_mutual_info_score(y, labels)\n",
        "            acc = accuracy(y, labels)\n",
        "\n",
        "            nmi_scores[method].append(nmi)\n",
        "            accuracy_scores[method].append(acc)\n",
        "\n",
        "          elif method == 'sKMeans':\n",
        "\n",
        "            kmeans = SphericalKmeans(n_clusters=n_clusters, max_iter=100)\n",
        "            kmeans.fit(X_umap_skmeans)\n",
        "            labels = kmeans.labels_\n",
        "\n",
        "            nmi = normalized_mutual_info_score(y, labels)\n",
        "            acc = accuracy(y, labels)\n",
        "\n",
        "            nmi_scores[method].append(nmi)\n",
        "            accuracy_scores[method].append(acc)\n",
        "\n",
        "\n",
        "          else:\n",
        "\n",
        "            kmeans = KMeans(n_clusters=n_clusters, init='k-means++')\n",
        "            labels = kmeans.fit_predict(X_umap_kmeans_pp)\n",
        "\n",
        "            nmi = normalized_mutual_info_score(y, labels)\n",
        "            acc = accuracy(y, labels)\n",
        "            nmi_scores[method].append(nmi)\n",
        "            accuracy_scores[method].append(acc)\n",
        "\n",
        "    print(\"Mean and Standard Deviation of NMI and Accuracy Scores:\")\n",
        "    print(\"----------------------------------------------------\")\n",
        "    print(\"Method      |   NMI              |  Accuracy\")\n",
        "    print(\"----------------------------------------------------\")\n",
        "    for method in nmi_scores:\n",
        "        nmi_mean = np.mean(nmi_scores[method])\n",
        "\n",
        "        nmi_std = np.std(nmi_scores[method])\n",
        "        acc_mean = np.mean(accuracy_scores[method])\n",
        "        acc_std = np.std(accuracy_scores[method])\n",
        "        print(f\"{method:<11} | {nmi_mean:.2f} +- {nmi_std:.2f} | {acc_mean:.2f} +- {acc_std:.2f}\")\n",
        "        print(\"----------------------------------------------------\")\n",
        "\n"
      ]
    },
    {
      "cell_type": "code",
      "execution_count": null,
      "metadata": {
        "id": "pBg-bGN7nbSK"
      },
      "outputs": [],
      "source": [
        "cluster_umap_and_evaluate(x_stack, y_stack)"
      ]
    },
    {
      "cell_type": "code",
      "execution_count": null,
      "metadata": {
        "id": "YzLvGCVrnbPl"
      },
      "outputs": [],
      "source": [
        "cluster_umap_and_evaluate(x_biomed, y_biomed)"
      ]
    },
    {
      "cell_type": "code",
      "execution_count": null,
      "metadata": {
        "id": "MKyXn_7znbMh"
      },
      "outputs": [],
      "source": [
        "cluster_umap_and_evaluate(x_snippet, y_snippet)"
      ]
    },
    {
      "cell_type": "code",
      "execution_count": null,
      "metadata": {
        "id": "3jyuFePKKibM"
      },
      "outputs": [],
      "source": []
    }
  ],
  "metadata": {
    "colab": {
      "provenance": [],
      "authorship_tag": "ABX9TyMzUlNzooA39Pp54fyI+dNm",
      "include_colab_link": true
    },
    "kernelspec": {
      "display_name": "Python 3",
      "name": "python3"
    },
    "language_info": {
      "name": "python"
    }
  },
  "nbformat": 4,
  "nbformat_minor": 0
}